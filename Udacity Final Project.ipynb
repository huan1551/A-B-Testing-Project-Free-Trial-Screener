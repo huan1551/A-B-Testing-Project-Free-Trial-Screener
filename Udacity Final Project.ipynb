{
 "cells": [
  {
   "cell_type": "markdown",
   "id": "6411ddda",
   "metadata": {},
   "source": [
    "# Experiment Design\n",
    "## Hypothesis\n",
    "The modification might set clearer expectations for students upfront, thus reducing the number of frustrated students who left the free trial because they didn't have enough time—without significantly reducing the number of students to continue past the free trial and eventually complete the course.\n",
    "\n",
    "## Metric Choice\n",
    "\n",
    "* Number of Cookies: number of unique cookies to view the course overview page. (dmin=3000)\n",
    "    * Invariant: Yes. \n",
    "        * It is the unit of diversion that is randomly assigned. It should be roughly the same for each group.\n",
    "* Number of user-ids: number of users who enroll in the free trial. (dmin=50)\n",
    "    * Invariant: No \n",
    "        * Tracked after enrolling in the free trial, two groups might have different populations because not all users will choose to enroll in the free trial\n",
    "    * Evaluation Metric: No.\n",
    "        * The goal of this project is to minimize the number of frustrated students who left the free trial due to lack of time while keeping students who want to keep studying the course after the free trial. The metric is not well-defined, which could make the definition clearer. For example, the difference in user-ids before and after 14 days.  \n",
    "* Number of Clicks: number of unique cookies to click the \"Start free trial\" button (which happens before the free trial screener is trigger). (dmin=240)\n",
    "    * Invariant: Yes\n",
    "        * This happens before asking the student how much time they will spend on the course. Should split evenly between two groups\n",
    "* Click-through-probability: number of unique cookies to click the \"Start free trial\" button divided by number of unique cookies to view the course overview page. (dmin=0.01)\n",
    "    * Invariant: Yes\n",
    "        * The clicks happen before asking the student how much time they will spend on the course. Should split evenly between two groups\n",
    "* Gross conversion: number of user-ids to complete checkout and enroll in the free trial divided by number of unique cookies to click the \"Start free trial\" button. (dmin= 0.01)\n",
    "    * Invariant: No\n",
    "        * This could be affected by the change \n",
    "    * Evaluation Metric: Yes\n",
    "        * Expected treatment group has lower gross conversion rate since numerator (number of user-ids to complete checkout and enroll in the free trial, enrolled) will decrease for treatment group while denominator stays the same for two groups.\n",
    "* Retention: number of user-ids to remain enrolled past the 14-day boundary (and thus make at least one payment) divided by number of user-ids to complete checkout. (dmin=0.01\n",
    "    * Invariant: No\n",
    "        * This could be affected by the change  \n",
    "    * Evaluation Metric: Yes\n",
    "        * Expected treatment group have higher retention rate since denominator (number of user-ids enrolled) will be smaller for the treatment group compared to the control group. The number of payments should be more or less or the same.\n",
    "* Net conversion: number of user-ids to remain enrolled past the 14-day boundary (and thus make at least one payment) divided by the number of unique cookies to click the \"Start free trial\" button. (dmin= 0.0075)\n",
    "    * Invariant: No\n",
    "        * This could be affected by the change  \n",
    "    * Evaluation Metric: Yes\n",
    "        * Is the product of two former metrics.  The number of payments is expected to remain more or less or the same, so the change of this metric should be insignificant."
   ]
  },
  {
   "cell_type": "markdown",
   "id": "aaa4151c",
   "metadata": {},
   "source": [
    "![](Evaluation.PNG)\n",
    "![](Process.PNG)\n",
    "Image Source: https://www.kaggle.com/code/mariusmesserschmied/udacity-a-b-testing-final-course-project/notebook"
   ]
  },
  {
   "cell_type": "markdown",
   "id": "8aea1f07",
   "metadata": {},
   "source": [
    "## Measuring Standard Deviation"
   ]
  },
  {
   "cell_type": "markdown",
   "id": "118e4c06",
   "metadata": {},
   "source": [
    "![](sd_calculation.PNG)\n",
    "![](baseline.PNG)\n",
    "For each of your evaluation metrics, indicate whether you think the analytic estimate would be comparable to the the empirical variability, or whether you expect them to be different (in which case it might be worth doing an empirical estimate if there is time). Briefly give your reasoning in each case.\n"
   ]
  },
  {
   "cell_type": "code",
   "execution_count": 19,
   "id": "38b905a2",
   "metadata": {},
   "outputs": [],
   "source": [
    "import math"
   ]
  },
  {
   "cell_type": "markdown",
   "id": "fdb59f68",
   "metadata": {},
   "source": [
    "### Gross Conversion SD"
   ]
  },
  {
   "cell_type": "code",
   "execution_count": 18,
   "id": "fa907f2b",
   "metadata": {},
   "outputs": [
    {
     "data": {
      "text/plain": [
       "0.0202"
      ]
     },
     "execution_count": 18,
     "metadata": {},
     "output_type": "execute_result"
    }
   ],
   "source": [
    "#gross conversion: # enroll_uid / # clicks 'start free' button\n",
    "p_enroll = 0.20625\n",
    "p_click_start_now = 3200/40000\n",
    "n_for_click = 5000*p_click_start_now\n",
    "gc_sd = round(math.sqrt((p_enroll*(1-p_enroll)/n_for_click)),4)\n",
    "gc_sd"
   ]
  },
  {
   "cell_type": "markdown",
   "id": "4522e37b",
   "metadata": {},
   "source": [
    "### Retension SD"
   ]
  },
  {
   "cell_type": "code",
   "execution_count": 31,
   "id": "594c691d",
   "metadata": {},
   "outputs": [
    {
     "data": {
      "text/plain": [
       "0.0549"
      ]
     },
     "execution_count": 31,
     "metadata": {},
     "output_type": "execute_result"
    }
   ],
   "source": [
    "#retension: # paid_uid / # enroll_uid\n",
    "p_pay_enrolled = 0.53\n",
    "p_enroll = 660/40000\n",
    "n_for_enroll = 5000*p_enroll\n",
    "gc_rt = round(math.sqrt((p_pay_enrolled*(1-p_pay_enrolled)/n_for_enroll)),4)\n",
    "gc_rt"
   ]
  },
  {
   "cell_type": "markdown",
   "id": "134a8d4c",
   "metadata": {},
   "source": [
    "### Net Conversion SD"
   ]
  },
  {
   "cell_type": "code",
   "execution_count": 22,
   "id": "827b3422",
   "metadata": {},
   "outputs": [
    {
     "data": {
      "text/plain": [
       "0.0156"
      ]
     },
     "execution_count": 22,
     "metadata": {},
     "output_type": "execute_result"
    }
   ],
   "source": [
    "#net conversion: # paid_uid / # clicks 'start free' button\n",
    "p_pay_clicked = 0.1093125\n",
    "gc_nc = round(math.sqrt((p_pay_clicked*(1-p_pay_clicked)/n_for_click)),4)\n",
    "gc_nc"
   ]
  },
  {
   "cell_type": "markdown",
   "id": "82352abd",
   "metadata": {},
   "source": [
    "## Sizing"
   ]
  },
  {
   "cell_type": "markdown",
   "id": "c981cf29",
   "metadata": {},
   "source": [
    "### Will you use the Bonferroni correction during your analysis phase? \n",
    "No, because evaluation metrics are all correlated, using bonferroni correction will be too conservative. \n",
    "### Give the number of pageviews you will need to power you experiment appropriately.\n",
    "### https://www.evanmiller.org/ab-testing/sample-size.html"
   ]
  },
  {
   "cell_type": "code",
   "execution_count": 26,
   "id": "fda05520",
   "metadata": {},
   "outputs": [
    {
     "data": {
      "text/plain": [
       "645875.0"
      ]
     },
     "execution_count": 26,
     "metadata": {},
     "output_type": "execute_result"
    }
   ],
   "source": [
    "# Gross Conversion\n",
    "min_n_based_click_one_group = 25835\n",
    "# One Group: min_n_based_view * p_click_start_now = 25385\n",
    "min_n_based_view_one_group = 25835/p_click_start_now\n",
    "min_n_based_view_one_group*2"
   ]
  },
  {
   "cell_type": "code",
   "execution_count": 34,
   "id": "81db3830",
   "metadata": {},
   "outputs": [
    {
     "data": {
      "text/plain": [
       "4741212.121212121"
      ]
     },
     "execution_count": 34,
     "metadata": {},
     "output_type": "execute_result"
    }
   ],
   "source": [
    "# Retention\n",
    "min_n_based_enroll_one_group = 39115\n",
    "min_n_based_view_one_group = 39115/p_enroll\n",
    "min_n_based_view_one_group*2"
   ]
  },
  {
   "cell_type": "code",
   "execution_count": 37,
   "id": "f36f30af",
   "metadata": {},
   "outputs": [
    {
     "data": {
      "text/plain": [
       "685325.0"
      ]
     },
     "execution_count": 37,
     "metadata": {},
     "output_type": "execute_result"
    }
   ],
   "source": [
    "# Net Conversion\n",
    "min_n_based_click_one_group = 27413\n",
    "min_n_based_view_one_group = 27413/p_click_start_now\n",
    "min_n_based_view_one_group*2"
   ]
  },
  {
   "cell_type": "markdown",
   "id": "fd9402c1",
   "metadata": {},
   "source": [
    "### Duration vs. Exposure\n",
    "#### Indicate what fraction of traffic you would divert to this experiment\n",
    "I am going to divert 50% fraction of the traffic"
   ]
  },
  {
   "cell_type": "markdown",
   "id": "28d1bf86",
   "metadata": {},
   "source": [
    "#### How many days you would need to run the experiment. (These should be the answers from the \"Choosing Duration and Exposure\" quiz.)"
   ]
  },
  {
   "cell_type": "code",
   "execution_count": 12,
   "id": "f5b04c5f",
   "metadata": {},
   "outputs": [
    {
     "name": "stdout",
     "output_type": "stream",
     "text": [
      "Gross Conversion: 16.146875\n",
      "Rentension: 118.530325\n",
      "Net Conversion: 17.133125\n"
     ]
    }
   ],
   "source": [
    "#Days Needed for three metrics\n",
    "print('Gross Conversion:',645875/40000)\n",
    "print('Rentension:',4741213/40000)\n",
    "print('Net Conversion:',685325/40000)"
   ]
  },
  {
   "cell_type": "markdown",
   "id": "d226677d",
   "metadata": {},
   "source": [
    "Rentension Needs 119 days, which is to long. Retension is no longer used as evaluation metric. Gross Conversion and Net Conversion need 17 and 18 days. Last 14 day data cannot be used because users entered at that time are still on free trial, the days need to run the experiment is 18 + 14 = 32 days. The length of Udacity's business cycle is one week, and there might be week of day effect. So the final expriement length is 7*5 = 35 days. I don't think this is a risky experiment."
   ]
  },
  {
   "cell_type": "markdown",
   "id": "48977871",
   "metadata": {},
   "source": [
    "# Experiment Analysis\n",
    "## Sanity Checks"
   ]
  },
  {
   "cell_type": "code",
   "execution_count": 1,
   "id": "10fd40b7",
   "metadata": {},
   "outputs": [],
   "source": [
    "import pandas as pd\n",
    "import numpy as np\n",
    "control = pd.read_csv('Final Project Results - Control.csv')\n",
    "experiment = pd.read_csv('Final Project Results - Experiment.csv')"
   ]
  },
  {
   "cell_type": "code",
   "execution_count": 3,
   "id": "1a36d457",
   "metadata": {},
   "outputs": [],
   "source": [
    "control_pageview = control['Pageviews'].sum()\n",
    "experiment_pageview = experiment['Pageviews'].sum()\n",
    "control_enroll = control['Enrollments'].sum()\n",
    "experiment_enroll = experiment['Enrollments'].sum()\n",
    "control_click = control['Clicks'].sum()\n",
    "experiment_click= experiment['Clicks'].sum()"
   ]
  },
  {
   "cell_type": "markdown",
   "id": "12dc3b64",
   "metadata": {},
   "source": [
    "### Number of Cookies"
   ]
  },
  {
   "cell_type": "code",
   "execution_count": 5,
   "id": "09c5bd36",
   "metadata": {},
   "outputs": [
    {
     "name": "stdout",
     "output_type": "stream",
     "text": [
      "0.49882039214902313 0.5011796078509769\n",
      "Yes 0.5006396668806133\n"
     ]
    }
   ],
   "source": [
    "# 1) Compute Standard Deviation of binominal with probablilty 0.5 of success\n",
    "cookie_sd = np.sqrt((0.5*0.5)/(control_pageview+experiment_pageview))\n",
    "# 2) Multiply by z-score to get margin of error\n",
    "cookie_MOE = cookie_sd * 1.96\n",
    "# 3) Compute confidence interval around 0.5\n",
    "print(0.5-cookie_MOE, 0.5+cookie_MOE)\n",
    "# 4) Check whether observed fraction is within interval\n",
    "cookie_p_hat = control_pageview/(control_pageview + experiment_pageview)\n",
    "print('Yes',cookie_p_hat)"
   ]
  },
  {
   "cell_type": "markdown",
   "id": "792002eb",
   "metadata": {},
   "source": [
    "### Number of Clicks"
   ]
  },
  {
   "cell_type": "code",
   "execution_count": 7,
   "id": "5e4f24a6",
   "metadata": {},
   "outputs": [
    {
     "name": "stdout",
     "output_type": "stream",
     "text": [
      "0.49588449572378945 0.5041155042762105\n",
      "Yes 0.5004673474066628\n"
     ]
    }
   ],
   "source": [
    "# 1) Compute Standard Deviation of binominal with probablilty 0.5 of success\n",
    "click_sd = np.sqrt((0.5*0.5)/(control_click+experiment_click))\n",
    "# 2) Multiply by z-score to get margin of error\n",
    "click_MOE = click_sd * 1.96\n",
    "# 3) Compute confidence interval around 0.5\n",
    "print(0.5-click_MOE, 0.5+click_MOE)\n",
    "# 4) Check whether observed fraction is within interval\n",
    "click_p_hat = control_click/(control_click+experiment_click)\n",
    "print('Yes',click_p_hat)"
   ]
  },
  {
   "cell_type": "markdown",
   "id": "1f81f007",
   "metadata": {},
   "source": [
    "### Click Through Probablity"
   ]
  },
  {
   "cell_type": "markdown",
   "id": "e5af9b16",
   "metadata": {},
   "source": [
    "![](two_proportion_compare.PNG)\n",
    "image source: https://medium.com/@zhouyuchen999/a-b-testing-experiment-a-udacity-course-project-f958f7236278"
   ]
  },
  {
   "cell_type": "code",
   "execution_count": 10,
   "id": "20544b54",
   "metadata": {},
   "outputs": [
    {
     "name": "stdout",
     "output_type": "stream",
     "text": [
      "Control: 0.08212581357457682\n",
      "Experiment 0.08218244066616376\n"
     ]
    }
   ],
   "source": [
    "p_control = control_click/control_pageview\n",
    "p_experiment = experiment_click/experiment_pageview\n",
    "print('Control:',p_control)\n",
    "print('Experiment',p_experiment)"
   ]
  },
  {
   "cell_type": "code",
   "execution_count": 12,
   "id": "c7292a52",
   "metadata": {},
   "outputs": [
    {
     "name": "stdout",
     "output_type": "stream",
     "text": [
      "-0.0012956791986518956 0.0012956791986518956\n",
      "Yes 5.662709158693602e-05\n"
     ]
    }
   ],
   "source": [
    "# 1) Compute Standard Deviation of binominal with probablilty 0.08 of success (from baseline)\n",
    "ctp_pool = (control_click + experiment_click)/(control_pageview + experiment_pageview)\n",
    "ctp_sd = np.sqrt(ctp_pool*(1-ctp_pool)*((1/control_pageview)+(1/experiment_pageview)))\n",
    "# 2) Multiply by z-score to get margin of error\n",
    "ctp_MOE = ctp_sd * 1.96\n",
    "# 3) Compute confidence interval around the difference\n",
    "diff = p_experiment-p_control\n",
    "print(-ctp_MOE, ctp_MOE)\n",
    "# 4) Check whether observed fraction is within interval\n",
    "print('Yes',diff)"
   ]
  },
  {
   "cell_type": "markdown",
   "id": "5f5ff60a",
   "metadata": {},
   "source": [
    "| Invariant | Lower Bound | Upper Bound | Obersved | Passed? |\n",
    "| --- | --- | --- | --- | --- |\n",
    "| Number of Cookies | 0.4988 | 0.5012 | 0.5006 | Yes |\n",
    "| Number of Clicks | 0.4959 | 0.5041 | 0.5005 | Yes |\n",
    "| Click Through Probablity | -0.0013 | 0.0013 | 0.0001 | Yes |"
   ]
  },
  {
   "cell_type": "markdown",
   "id": "dbeafb0b",
   "metadata": {},
   "source": [
    "## Effective Size Tests"
   ]
  },
  {
   "cell_type": "code",
   "execution_count": 18,
   "id": "21a9abe1",
   "metadata": {},
   "outputs": [],
   "source": [
    "control_df = control.dropna()\n",
    "experiment_df = experiment.dropna()"
   ]
  },
  {
   "cell_type": "code",
   "execution_count": 21,
   "id": "409b5fe7",
   "metadata": {},
   "outputs": [
    {
     "data": {
      "text/html": [
       "<div>\n",
       "<style scoped>\n",
       "    .dataframe tbody tr th:only-of-type {\n",
       "        vertical-align: middle;\n",
       "    }\n",
       "\n",
       "    .dataframe tbody tr th {\n",
       "        vertical-align: top;\n",
       "    }\n",
       "\n",
       "    .dataframe thead th {\n",
       "        text-align: right;\n",
       "    }\n",
       "</style>\n",
       "<table border=\"1\" class=\"dataframe\">\n",
       "  <thead>\n",
       "    <tr style=\"text-align: right;\">\n",
       "      <th></th>\n",
       "      <th>Date</th>\n",
       "      <th>Pageviews</th>\n",
       "      <th>Clicks</th>\n",
       "      <th>Enrollments</th>\n",
       "      <th>Payments</th>\n",
       "    </tr>\n",
       "  </thead>\n",
       "  <tbody>\n",
       "    <tr>\n",
       "      <th>0</th>\n",
       "      <td>Sat, Oct 11</td>\n",
       "      <td>7723</td>\n",
       "      <td>687</td>\n",
       "      <td>134.0</td>\n",
       "      <td>70.0</td>\n",
       "    </tr>\n",
       "    <tr>\n",
       "      <th>1</th>\n",
       "      <td>Sun, Oct 12</td>\n",
       "      <td>9102</td>\n",
       "      <td>779</td>\n",
       "      <td>147.0</td>\n",
       "      <td>70.0</td>\n",
       "    </tr>\n",
       "    <tr>\n",
       "      <th>2</th>\n",
       "      <td>Mon, Oct 13</td>\n",
       "      <td>10511</td>\n",
       "      <td>909</td>\n",
       "      <td>167.0</td>\n",
       "      <td>95.0</td>\n",
       "    </tr>\n",
       "    <tr>\n",
       "      <th>3</th>\n",
       "      <td>Tue, Oct 14</td>\n",
       "      <td>9871</td>\n",
       "      <td>836</td>\n",
       "      <td>156.0</td>\n",
       "      <td>105.0</td>\n",
       "    </tr>\n",
       "    <tr>\n",
       "      <th>4</th>\n",
       "      <td>Wed, Oct 15</td>\n",
       "      <td>10014</td>\n",
       "      <td>837</td>\n",
       "      <td>163.0</td>\n",
       "      <td>64.0</td>\n",
       "    </tr>\n",
       "    <tr>\n",
       "      <th>5</th>\n",
       "      <td>Thu, Oct 16</td>\n",
       "      <td>9670</td>\n",
       "      <td>823</td>\n",
       "      <td>138.0</td>\n",
       "      <td>82.0</td>\n",
       "    </tr>\n",
       "    <tr>\n",
       "      <th>6</th>\n",
       "      <td>Fri, Oct 17</td>\n",
       "      <td>9008</td>\n",
       "      <td>748</td>\n",
       "      <td>146.0</td>\n",
       "      <td>76.0</td>\n",
       "    </tr>\n",
       "    <tr>\n",
       "      <th>7</th>\n",
       "      <td>Sat, Oct 18</td>\n",
       "      <td>7434</td>\n",
       "      <td>632</td>\n",
       "      <td>110.0</td>\n",
       "      <td>70.0</td>\n",
       "    </tr>\n",
       "    <tr>\n",
       "      <th>8</th>\n",
       "      <td>Sun, Oct 19</td>\n",
       "      <td>8459</td>\n",
       "      <td>691</td>\n",
       "      <td>131.0</td>\n",
       "      <td>60.0</td>\n",
       "    </tr>\n",
       "    <tr>\n",
       "      <th>9</th>\n",
       "      <td>Mon, Oct 20</td>\n",
       "      <td>10667</td>\n",
       "      <td>861</td>\n",
       "      <td>165.0</td>\n",
       "      <td>97.0</td>\n",
       "    </tr>\n",
       "    <tr>\n",
       "      <th>10</th>\n",
       "      <td>Tue, Oct 21</td>\n",
       "      <td>10660</td>\n",
       "      <td>867</td>\n",
       "      <td>196.0</td>\n",
       "      <td>105.0</td>\n",
       "    </tr>\n",
       "    <tr>\n",
       "      <th>11</th>\n",
       "      <td>Wed, Oct 22</td>\n",
       "      <td>9947</td>\n",
       "      <td>838</td>\n",
       "      <td>162.0</td>\n",
       "      <td>92.0</td>\n",
       "    </tr>\n",
       "    <tr>\n",
       "      <th>12</th>\n",
       "      <td>Thu, Oct 23</td>\n",
       "      <td>8324</td>\n",
       "      <td>665</td>\n",
       "      <td>127.0</td>\n",
       "      <td>56.0</td>\n",
       "    </tr>\n",
       "    <tr>\n",
       "      <th>13</th>\n",
       "      <td>Fri, Oct 24</td>\n",
       "      <td>9434</td>\n",
       "      <td>673</td>\n",
       "      <td>220.0</td>\n",
       "      <td>122.0</td>\n",
       "    </tr>\n",
       "    <tr>\n",
       "      <th>14</th>\n",
       "      <td>Sat, Oct 25</td>\n",
       "      <td>8687</td>\n",
       "      <td>691</td>\n",
       "      <td>176.0</td>\n",
       "      <td>128.0</td>\n",
       "    </tr>\n",
       "    <tr>\n",
       "      <th>15</th>\n",
       "      <td>Sun, Oct 26</td>\n",
       "      <td>8896</td>\n",
       "      <td>708</td>\n",
       "      <td>161.0</td>\n",
       "      <td>104.0</td>\n",
       "    </tr>\n",
       "    <tr>\n",
       "      <th>16</th>\n",
       "      <td>Mon, Oct 27</td>\n",
       "      <td>9535</td>\n",
       "      <td>759</td>\n",
       "      <td>233.0</td>\n",
       "      <td>124.0</td>\n",
       "    </tr>\n",
       "    <tr>\n",
       "      <th>17</th>\n",
       "      <td>Tue, Oct 28</td>\n",
       "      <td>9363</td>\n",
       "      <td>736</td>\n",
       "      <td>154.0</td>\n",
       "      <td>91.0</td>\n",
       "    </tr>\n",
       "    <tr>\n",
       "      <th>18</th>\n",
       "      <td>Wed, Oct 29</td>\n",
       "      <td>9327</td>\n",
       "      <td>739</td>\n",
       "      <td>196.0</td>\n",
       "      <td>86.0</td>\n",
       "    </tr>\n",
       "    <tr>\n",
       "      <th>19</th>\n",
       "      <td>Thu, Oct 30</td>\n",
       "      <td>9345</td>\n",
       "      <td>734</td>\n",
       "      <td>167.0</td>\n",
       "      <td>75.0</td>\n",
       "    </tr>\n",
       "    <tr>\n",
       "      <th>20</th>\n",
       "      <td>Fri, Oct 31</td>\n",
       "      <td>8890</td>\n",
       "      <td>706</td>\n",
       "      <td>174.0</td>\n",
       "      <td>101.0</td>\n",
       "    </tr>\n",
       "    <tr>\n",
       "      <th>21</th>\n",
       "      <td>Sat, Nov 1</td>\n",
       "      <td>8460</td>\n",
       "      <td>681</td>\n",
       "      <td>156.0</td>\n",
       "      <td>93.0</td>\n",
       "    </tr>\n",
       "    <tr>\n",
       "      <th>22</th>\n",
       "      <td>Sun, Nov 2</td>\n",
       "      <td>8836</td>\n",
       "      <td>693</td>\n",
       "      <td>206.0</td>\n",
       "      <td>67.0</td>\n",
       "    </tr>\n",
       "  </tbody>\n",
       "</table>\n",
       "</div>"
      ],
      "text/plain": [
       "           Date  Pageviews  Clicks  Enrollments  Payments\n",
       "0   Sat, Oct 11       7723     687        134.0      70.0\n",
       "1   Sun, Oct 12       9102     779        147.0      70.0\n",
       "2   Mon, Oct 13      10511     909        167.0      95.0\n",
       "3   Tue, Oct 14       9871     836        156.0     105.0\n",
       "4   Wed, Oct 15      10014     837        163.0      64.0\n",
       "5   Thu, Oct 16       9670     823        138.0      82.0\n",
       "6   Fri, Oct 17       9008     748        146.0      76.0\n",
       "7   Sat, Oct 18       7434     632        110.0      70.0\n",
       "8   Sun, Oct 19       8459     691        131.0      60.0\n",
       "9   Mon, Oct 20      10667     861        165.0      97.0\n",
       "10  Tue, Oct 21      10660     867        196.0     105.0\n",
       "11  Wed, Oct 22       9947     838        162.0      92.0\n",
       "12  Thu, Oct 23       8324     665        127.0      56.0\n",
       "13  Fri, Oct 24       9434     673        220.0     122.0\n",
       "14  Sat, Oct 25       8687     691        176.0     128.0\n",
       "15  Sun, Oct 26       8896     708        161.0     104.0\n",
       "16  Mon, Oct 27       9535     759        233.0     124.0\n",
       "17  Tue, Oct 28       9363     736        154.0      91.0\n",
       "18  Wed, Oct 29       9327     739        196.0      86.0\n",
       "19  Thu, Oct 30       9345     734        167.0      75.0\n",
       "20  Fri, Oct 31       8890     706        174.0     101.0\n",
       "21   Sat, Nov 1       8460     681        156.0      93.0\n",
       "22   Sun, Nov 2       8836     693        206.0      67.0"
      ]
     },
     "execution_count": 21,
     "metadata": {},
     "output_type": "execute_result"
    }
   ],
   "source": [
    "control_df"
   ]
  },
  {
   "cell_type": "markdown",
   "id": "885c4975",
   "metadata": {},
   "source": [
    "### Gross Conversion"
   ]
  },
  {
   "cell_type": "code",
   "execution_count": 27,
   "id": "6531cf25",
   "metadata": {},
   "outputs": [],
   "source": [
    "control_enroll = control_df['Enrollments'].sum()\n",
    "experiment_enroll = experiment_df['Enrollments'].sum()\n",
    "control_click = control_df['Clicks'].sum()\n",
    "experiment_click= experiment_df['Clicks'].sum()\n",
    "p_control = control_enroll/control_click\n",
    "p_expriment = experiment_enroll/experiment_click\n",
    "p_pool = (control_enroll+experiment_enroll)/(control_click+experiment_click)"
   ]
  },
  {
   "cell_type": "code",
   "execution_count": 28,
   "id": "51e61508",
   "metadata": {},
   "outputs": [
    {
     "name": "stdout",
     "output_type": "stream",
     "text": [
      "Difference: -0.020554874580361565\n",
      "95% CI: -0.0291233583354044 -0.01198639082531873\n"
     ]
    }
   ],
   "source": [
    "diff = p_expriment-p_control\n",
    "sd = np.sqrt(p_pool*(1-p_pool)*(1/control_click+1/experiment_click))\n",
    "MOE = sd*1.96\n",
    "print('Difference:',diff)\n",
    "print('95% CI:',diff-MOE,diff+MOE)"
   ]
  },
  {
   "cell_type": "markdown",
   "id": "556b7ad3",
   "metadata": {},
   "source": [
    "Confident interval does not contain zero and negative d_min = -0.01, meaning the result is both statistical and practical significant."
   ]
  },
  {
   "cell_type": "markdown",
   "id": "ea356b14",
   "metadata": {},
   "source": [
    "### Net Conversion"
   ]
  },
  {
   "cell_type": "code",
   "execution_count": 37,
   "id": "5c1b1bcc",
   "metadata": {},
   "outputs": [],
   "source": [
    "control_paid = control_df['Payments'].sum()\n",
    "experiment_paid = experiment_df['Payments'].sum()"
   ]
  },
  {
   "cell_type": "code",
   "execution_count": 38,
   "id": "f0c4bbfc",
   "metadata": {},
   "outputs": [],
   "source": [
    "p_control = control_paid/control_click\n",
    "p_expriment = experiment_paid/experiment_click\n",
    "p_pool = (control_paid+experiment_paid)/(control_click+experiment_click)"
   ]
  },
  {
   "cell_type": "code",
   "execution_count": 39,
   "id": "a8380d03",
   "metadata": {},
   "outputs": [
    {
     "name": "stdout",
     "output_type": "stream",
     "text": [
      "Difference: -0.0048737226745441675\n",
      "95% CI: -0.011604624359891718 0.001857179010803383\n"
     ]
    }
   ],
   "source": [
    "diff = p_expriment-p_control\n",
    "sd = np.sqrt(p_pool*(1-p_pool)*(1/control_click+1/experiment_click))\n",
    "MOE = sd*1.96\n",
    "print('Difference:',diff)\n",
    "print('95% CI:',diff-MOE,diff+MOE)"
   ]
  },
  {
   "cell_type": "markdown",
   "id": "028c170e",
   "metadata": {},
   "source": [
    "Confidence interval contains 0 and negative d_min = -0.0075. Meaning there is no evidence showing that significant difference exists between the control and experiment group."
   ]
  },
  {
   "cell_type": "markdown",
   "id": "b05dddcf",
   "metadata": {},
   "source": [
    "### Sign Test\n",
    "### https://www.graphpad.com/quickcalcs/binomial1/"
   ]
  },
  {
   "cell_type": "markdown",
   "id": "791929d7",
   "metadata": {},
   "source": [
    "#### Gross Conversion"
   ]
  },
  {
   "cell_type": "code",
   "execution_count": 51,
   "id": "7ec7c5d2",
   "metadata": {},
   "outputs": [
    {
     "name": "stdout",
     "output_type": "stream",
     "text": [
      "Total Days: 23\n",
      "Number of Successes: 19\n"
     ]
    }
   ],
   "source": [
    "gc_sign = 0\n",
    "exp_days = len(control_df['Payments'])\n",
    "for i in range(exp_days):\n",
    "    daily_control_gc = control_df['Enrollments'].iloc[i]/control_df['Clicks'].iloc[i]\n",
    "    daily_experiment_gc = experiment_df['Enrollments'].iloc[i]/experiment_df['Clicks'].iloc[i]\n",
    "    if daily_experiment_gc < daily_control_gc:\n",
    "        gc_sign += 1\n",
    "print('Total Days:',exp_days)\n",
    "print('Number of Successes:', gc_sign)"
   ]
  },
  {
   "cell_type": "markdown",
   "id": "5c272445",
   "metadata": {},
   "source": [
    "Result is consistent with effecitve size test."
   ]
  },
  {
   "cell_type": "markdown",
   "id": "54a8c648",
   "metadata": {},
   "source": [
    "![](gc_sign_test.PNG)"
   ]
  },
  {
   "cell_type": "markdown",
   "id": "323935ae",
   "metadata": {},
   "source": [
    "#### Net Conversion"
   ]
  },
  {
   "cell_type": "code",
   "execution_count": 55,
   "id": "7e3c6406",
   "metadata": {},
   "outputs": [
    {
     "name": "stdout",
     "output_type": "stream",
     "text": [
      "Total Days: 23\n",
      "Number of Successes: 10\n"
     ]
    }
   ],
   "source": [
    "nc_sign = 0\n",
    "exp_days = len(control_df['Payments'])\n",
    "for i in range(exp_days):\n",
    "    daily_control_nc = control_df['Payments'].iloc[i]/control_df['Clicks'].iloc[i]\n",
    "    daily_experiment_nc = experiment_df['Payments'].iloc[i]/experiment_df['Clicks'].iloc[i]\n",
    "    if daily_control_nc < daily_experiment_nc:\n",
    "        nc_sign += 1\n",
    "print('Total Days:',exp_days)\n",
    "print('Number of Successes:', nc_sign)"
   ]
  },
  {
   "cell_type": "markdown",
   "id": "47d7958a",
   "metadata": {},
   "source": [
    "Result is consistent with effecitve size test."
   ]
  },
  {
   "cell_type": "markdown",
   "id": "ff1d62d5",
   "metadata": {},
   "source": [
    "![](nc_sign_test.PNG)"
   ]
  },
  {
   "cell_type": "markdown",
   "id": "3174c546",
   "metadata": {},
   "source": [
    "# Recommandations"
   ]
  },
  {
   "cell_type": "markdown",
   "id": "993586f9",
   "metadata": {},
   "source": [
    "I would recommand launch. The number of frustrated students who left the free trial has being successful reduced based on tests performed on the gross conversion. Also, the number of students to continue past the free trial and eventually complete the course was not being significatly reduced by the change based on the tests performed on the net conversion."
   ]
  }
 ],
 "metadata": {
  "kernelspec": {
   "display_name": "Python 3 (ipykernel)",
   "language": "python",
   "name": "python3"
  },
  "language_info": {
   "codemirror_mode": {
    "name": "ipython",
    "version": 3
   },
   "file_extension": ".py",
   "mimetype": "text/x-python",
   "name": "python",
   "nbconvert_exporter": "python",
   "pygments_lexer": "ipython3",
   "version": "3.9.12"
  }
 },
 "nbformat": 4,
 "nbformat_minor": 5
}
